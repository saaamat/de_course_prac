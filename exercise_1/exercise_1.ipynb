{
  "nbformat": 4,
  "nbformat_minor": 0,
  "metadata": {
    "colab": {
      "provenance": []
    },
    "kernelspec": {
      "name": "python3",
      "display_name": "Python 3"
    },
    "language_info": {
      "name": "python"
    }
  },
  "cells": [
    {
      "cell_type": "code",
      "source": [
        "!pip install pyspark transliterate"
      ],
      "metadata": {
        "colab": {
          "base_uri": "https://localhost:8080/"
        },
        "id": "sgKkbMVctc5X",
        "outputId": "774c54cc-c17f-4a50-ef29-cc94453848c6"
      },
      "execution_count": 6,
      "outputs": [
        {
          "output_type": "stream",
          "name": "stdout",
          "text": [
            "Requirement already satisfied: pyspark in /usr/local/lib/python3.12/dist-packages (3.5.1)\n",
            "Requirement already satisfied: transliterate in /usr/local/lib/python3.12/dist-packages (1.10.2)\n",
            "Requirement already satisfied: py4j==0.10.9.7 in /usr/local/lib/python3.12/dist-packages (from pyspark) (0.10.9.7)\n",
            "Requirement already satisfied: six>=1.1.0 in /usr/local/lib/python3.12/dist-packages (from transliterate) (1.17.0)\n"
          ]
        }
      ]
    },
    {
      "cell_type": "code",
      "source": [],
      "metadata": {
        "id": "nGUU-WD5tckR"
      },
      "execution_count": 6,
      "outputs": []
    },
    {
      "cell_type": "markdown",
      "source": [
        "Импорт требуемых библиотек для работы"
      ],
      "metadata": {
        "id": "Er5cWGhTtjtV"
      }
    },
    {
      "cell_type": "code",
      "source": [
        "from pyspark.sql import SparkSession\n",
        "import pyspark.sql.functions as f\n",
        "from pyspark.sql.types import StructType, StructField, StringType, IntegerType, DateType\n",
        "import random\n",
        "import uuid\n",
        "import datetime\n",
        "from transliterate import translit"
      ],
      "metadata": {
        "id": "eprxzwlLtY7X"
      },
      "execution_count": 7,
      "outputs": []
    },
    {
      "cell_type": "markdown",
      "source": [
        "Определения списка данных для генерации имен, городов и доменов"
      ],
      "metadata": {
        "id": "e0aip9G8tnr_"
      }
    },
    {
      "cell_type": "code",
      "source": [
        "NAMES = [\"Михаил\", \"София\", \"Александр\", \"Анастасия\", \"Артем\", \"Мария\", \"Матвей\", \"Анна\", \"Максим\", \"Виктория\", None]\n",
        "CITIES = [\"Москва\", 'Санкт-Петербург', 'Екатеринбург', 'Новосибирск', 'Казань', None]\n",
        "DOMAINS = ['mail.ru', 'bk.ru', 'yandex.ru', 'gmail.com', 'hotmail.com']"
      ],
      "metadata": {
        "id": "XifvFq4DtuV8"
      },
      "execution_count": 8,
      "outputs": []
    },
    {
      "cell_type": "markdown",
      "source": [
        "Класс для генерации данных"
      ],
      "metadata": {
        "id": "3hi5Wlj6txUu"
      }
    },
    {
      "cell_type": "code",
      "source": [
        "class DataGenerator:\n",
        "\n",
        "    def __init__(self, num=10, spark=None):\n",
        "        self.num = num\n",
        "        self.spark = spark\n",
        "\n",
        "    def generate_name(self):\n",
        "        return random.choice(NAMES)\n",
        "\n",
        "    def generate_email(self, name):\n",
        "        if name is None:\n",
        "            return None\n",
        "        try:\n",
        "            transliterated = translit(name, 'ru', reversed=True).lower()\n",
        "            return f'{transliterated}{random.randint(0, 100)}@{random.choice(DOMAINS)}'\n",
        "        except:\n",
        "            return f'user{random.randint(1000, 9999)}@{random.choice(DOMAINS)}'\n",
        "\n",
        "    def generate_city(self):\n",
        "        return random.choice(CITIES)\n",
        "\n",
        "    def generate_age(self):\n",
        "        return random.randint(18, 95)\n",
        "\n",
        "    def generate_salary(self):\n",
        "        return random.randint(23000, 150000)\n",
        "\n",
        "    def generate_date(self, age):\n",
        "        # Дата регистрации не раньше, чем человеку исполнилось 18 лет\n",
        "        max_years_ago = age - 18\n",
        "        if max_years_ago <= 0:\n",
        "            days_ago = 0\n",
        "        else:\n",
        "            days_ago = random.randint(0, max_years_ago * 365)\n",
        "\n",
        "        return datetime.date.today() - datetime.timedelta(days=days_ago)\n",
        "\n",
        "    def generate_objects(self):\n",
        "        # Генерируем данные как список Python объектов\n",
        "        data = []\n",
        "        for _ in range(self.num):\n",
        "            age = self.generate_age()\n",
        "            name = self.generate_name()\n",
        "            city = self.generate_city()\n",
        "\n",
        "            record = (\n",
        "                str(uuid.uuid4()),  # id\n",
        "                name,  # name\n",
        "                self.generate_email(name),  # email\n",
        "                age,  # age\n",
        "                city,  # city\n",
        "                self.generate_salary(),  # salary\n",
        "                self.generate_date(age)  # registration_date\n",
        "            )\n",
        "            data.append(record)\n",
        "\n",
        "        # Определяем схему DataFrame\n",
        "        schema = StructType([\n",
        "            StructField(\"id\", StringType(), True),\n",
        "            StructField(\"name\", StringType(), True),\n",
        "            StructField(\"email\", StringType(), True),\n",
        "            StructField(\"age\", IntegerType(), True),\n",
        "            StructField(\"city\", StringType(), True),\n",
        "            StructField(\"salary\", IntegerType(), True),\n",
        "            StructField(\"registration_date\", DateType(), True)\n",
        "        ])\n",
        "\n",
        "        # Создаем DataFrame из сгенерированных данных\n",
        "        return self.spark.createDataFrame(data, schema=schema)"
      ],
      "metadata": {
        "id": "sFnxE7-ltw9q"
      },
      "execution_count": 9,
      "outputs": []
    },
    {
      "cell_type": "markdown",
      "source": [
        "Функции для преобразования данных (очистка, обработка null, шифрование)"
      ],
      "metadata": {
        "id": "mYZ0NDL3t7MD"
      }
    },
    {
      "cell_type": "code",
      "source": [
        "def clean_data(df):\n",
        "    \"\"\"\n",
        "    Преобразование сгенерированных данных:\n",
        "    - Обработка NULL/None значений (удаление)\n",
        "    - Обработка дубликатов (удаление строки-дубликата)\n",
        "    - Проверка даты регистрации\n",
        "    \"\"\"\n",
        "    df_cleaned = df.filter(\n",
        "        (f.col(\"name\").isNotNull()) &\n",
        "        (f.length(f.col(\"name\")) >= 5) &\n",
        "        (f.col(\"city\").isNotNull()) &\n",
        "        (f.length(f.col(\"city\")) >= 7)\n",
        "    )\n",
        "\n",
        "    df_cleaned = df_cleaned.filter(\n",
        "        (f.col(\"email\").isNotNull()) &\n",
        "        (f.col(\"email\").contains(\"@\")) &\n",
        "        ((f.col(\"email\").endswith(\".ru\")) | (f.col(\"email\").endswith(\".com\")))\n",
        "    )\n",
        "    df_cleaned = df_cleaned.dropDuplicates()\\\n",
        "                           .filter(f.col(\"age\") >= 18)\n",
        "\n",
        "    current_date = datetime.date.today()\n",
        "    df_cleaned = df_cleaned.filter(\n",
        "        f.col(\"registration_date\") <= current_date\n",
        "    )\n",
        "\n",
        "    return df_cleaned\n",
        "\n",
        "def encrypt_data(df):\n",
        "    \"\"\"\n",
        "    Простое шифрование чувствительных данных (для примера, используем email)\n",
        "    \"\"\"\n",
        "    df_encrypted = df.withColumn(\n",
        "        \"email_encrypted\",\n",
        "        f.sha2(f.col(\"email\"), 256)\n",
        "    )\n",
        "\n",
        "    return df_encrypted"
      ],
      "metadata": {
        "id": "2L4TxFAFuMnO"
      },
      "execution_count": 10,
      "outputs": []
    },
    {
      "cell_type": "markdown",
      "source": [
        "Основной блок кода"
      ],
      "metadata": {
        "id": "rJnHv6vFvAz0"
      }
    },
    {
      "cell_type": "code",
      "source": [
        "spark = SparkSession.builder\\\n",
        "    .appName('DataGenerationApp')\\\n",
        "    .master('local[*]')\\\n",
        "    .getOrCreate()\n",
        "\n",
        "\n",
        "data_generator = DataGenerator(100, spark)\n",
        "df_raw = data_generator.generate_objects()\n",
        "\n",
        "print(\"Сгенерированные данные:\")\n",
        "df_raw.show(10)\n",
        "\n",
        "df_cleaned = clean_data(df_raw)\n",
        "\n",
        "print(\"\\nДанные после очистки:\")\n",
        "df_cleaned.show(10)\n",
        "\n",
        "print(f\"\\nСтатистика:\\n\"\n",
        "      f\"Исходные записи: {df_raw.count()}\\n\"\n",
        "      f\"После очистки: {df_cleaned.count()}\\n\"\n",
        "      f\"Удалено записей: {df_raw.count() - df_cleaned.count()}\")\n",
        "\n",
        "df_final = encrypt_data(df_cleaned)\n",
        "\n",
        "print(\"\\nДанные с шифрованием:\")\n",
        "df_final.show(10)\n",
        "\n",
        "# Запись в файл\n",
        "current_time = datetime.datetime.now().strftime(\"%Y%m%d_%H%M%S\")\n",
        "output_path = f\"/content/{current_time}-dev.csv\"\n",
        "\n",
        "df_final.write \\\n",
        "    .mode(\"overwrite\") \\\n",
        "    .option(\"header\", \"true\") \\\n",
        "    .csv(output_path)\n",
        "\n",
        "print(f\"\\nДанные сохранены в: {output_path}\")\n",
        "\n",
        "spark.stop()"
      ],
      "metadata": {
        "colab": {
          "base_uri": "https://localhost:8080/"
        },
        "id": "zuzdMpqDq5hz",
        "outputId": "ed2a3e8b-9b09-4232-ffe2-63a8fab141c4"
      },
      "execution_count": 11,
      "outputs": [
        {
          "output_type": "stream",
          "name": "stdout",
          "text": [
            "Сгенерированные данные:\n",
            "+--------------------+---------+--------------------+---+------------+------+-----------------+\n",
            "|                  id|     name|               email|age|        city|salary|registration_date|\n",
            "+--------------------+---------+--------------------+---+------------+------+-----------------+\n",
            "|a89236f9-3c91-414...|   Максим|  maksim89@yandex.ru| 33|      Москва|137423|       2022-10-25|\n",
            "|86c8bc9e-8ab2-4e8...|    Мария|  marija84@gmail.com| 38|      Казань| 30593|       2008-01-28|\n",
            "|e26413de-e712-47e...|   Матвей|  matvej92@gmail.com| 84|      Москва|114976|       1962-07-16|\n",
            "|e8450050-1aea-47f...|Анастасия|anastasija22@hotm...| 89|      Казань|109368|       2012-06-22|\n",
            "|f13da429-e03b-465...|   Матвей|      matvej93@bk.ru| 81|Екатеринбург|137425|       2012-03-05|\n",
            "|e3f5c45f-9684-4ee...|    Артем|       artem80@bk.ru| 26|Екатеринбург|134437|       2019-02-28|\n",
            "|9fa685ab-7df5-409...|   Матвей|  matvej18@yandex.ru| 41|      Казань|138815|       2010-06-08|\n",
            "|9a2b64f3-14b5-497...|     Анна|        anna47@bk.ru| 38| Новосибирск| 93862|       2015-07-13|\n",
            "|d89276c8-a1fb-4d1...|    София|      sofija82@bk.ru| 82| Новосибирск| 41460|       1995-10-14|\n",
            "|83d3b4b7-4b95-4fb...|    Артем|   artem68@gmail.com| 90|Екатеринбург| 95803|       2015-12-09|\n",
            "+--------------------+---------+--------------------+---+------------+------+-----------------+\n",
            "only showing top 10 rows\n",
            "\n",
            "\n",
            "Данные после очистки:\n",
            "+--------------------+------+--------------------+---+---------------+------+-----------------+\n",
            "|                  id|  name|               email|age|           city|salary|registration_date|\n",
            "+--------------------+------+--------------------+---+---------------+------+-----------------+\n",
            "|a5e3425c-d94c-433...| София|  sofija52@gmail.com| 74|   Екатеринбург| 59319|       2002-03-05|\n",
            "|18736188-c01e-4e9...|Михаил|  mihail94@yandex.ru| 83|    Новосибирск| 84095|       1985-04-15|\n",
            "|75e0567c-be8e-44f...| София|      sofija14@bk.ru| 39|    Новосибирск| 57213|       2018-08-21|\n",
            "|02c2c9d6-0f81-457...| Артем|     artem91@mail.ru| 94|Санкт-Петербург| 99071|       1993-07-12|\n",
            "|d89276c8-a1fb-4d1...| София|      sofija82@bk.ru| 82|    Новосибирск| 41460|       1995-10-14|\n",
            "|83d3b4b7-4b95-4fb...| Артем|   artem68@gmail.com| 90|   Екатеринбург| 95803|       2015-12-09|\n",
            "|846fed61-56b0-4f6...| Мария|marija43@hotmail.com| 68|Санкт-Петербург| 99393|       2011-12-09|\n",
            "|48148401-0cf2-449...| Артем|   artem16@yandex.ru| 40|   Екатеринбург| 39231|       2014-11-02|\n",
            "|b0849668-2b16-459...|Максим|  maksim80@yandex.ru| 35|   Екатеринбург| 55043|       2021-02-06|\n",
            "|e3f5c45f-9684-4ee...| Артем|       artem80@bk.ru| 26|   Екатеринбург|134437|       2019-02-28|\n",
            "+--------------------+------+--------------------+---+---------------+------+-----------------+\n",
            "only showing top 10 rows\n",
            "\n",
            "\n",
            "Статистика:\n",
            "Исходные записи: 100\n",
            "После очистки: 34\n",
            "Удалено записей: 66\n",
            "\n",
            "Данные с шифрованием:\n",
            "+--------------------+------+--------------------+---+---------------+------+-----------------+--------------------+\n",
            "|                  id|  name|               email|age|           city|salary|registration_date|     email_encrypted|\n",
            "+--------------------+------+--------------------+---+---------------+------+-----------------+--------------------+\n",
            "|a5e3425c-d94c-433...| София|  sofija52@gmail.com| 74|   Екатеринбург| 59319|       2002-03-05|80c24c79ec0bc7c47...|\n",
            "|18736188-c01e-4e9...|Михаил|  mihail94@yandex.ru| 83|    Новосибирск| 84095|       1985-04-15|1a70bc36b30e14433...|\n",
            "|75e0567c-be8e-44f...| София|      sofija14@bk.ru| 39|    Новосибирск| 57213|       2018-08-21|42d4fa1bd9c4d7e4d...|\n",
            "|02c2c9d6-0f81-457...| Артем|     artem91@mail.ru| 94|Санкт-Петербург| 99071|       1993-07-12|5dd1065831759c211...|\n",
            "|d89276c8-a1fb-4d1...| София|      sofija82@bk.ru| 82|    Новосибирск| 41460|       1995-10-14|e15840d0cd9ecaa90...|\n",
            "|83d3b4b7-4b95-4fb...| Артем|   artem68@gmail.com| 90|   Екатеринбург| 95803|       2015-12-09|c90dd6b1957758832...|\n",
            "|846fed61-56b0-4f6...| Мария|marija43@hotmail.com| 68|Санкт-Петербург| 99393|       2011-12-09|b802121cdde21861d...|\n",
            "|48148401-0cf2-449...| Артем|   artem16@yandex.ru| 40|   Екатеринбург| 39231|       2014-11-02|310e7693e42bc52c8...|\n",
            "|b0849668-2b16-459...|Максим|  maksim80@yandex.ru| 35|   Екатеринбург| 55043|       2021-02-06|981b983f1c46a9c47...|\n",
            "|e3f5c45f-9684-4ee...| Артем|       artem80@bk.ru| 26|   Екатеринбург|134437|       2019-02-28|f3b16add203ac4f68...|\n",
            "+--------------------+------+--------------------+---+---------------+------+-----------------+--------------------+\n",
            "only showing top 10 rows\n",
            "\n",
            "\n",
            "Данные сохранены в: /content/20250903_084208-dev.csv\n"
          ]
        }
      ]
    }
  ]
}